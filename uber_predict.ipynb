{
 "cells": [
  {
   "cell_type": "code",
   "execution_count": 22,
   "id": "791c47c6-d382-42ba-968b-eb3a2a4884a9",
   "metadata": {},
   "outputs": [],
   "source": [
    "# Import required libraries \n",
    "import pandas as pd\n",
    "import matplotlib.pyplot as plt\n",
    "from sklearn.model_selection import train_test_split\n",
    "from sklearn.linear_model import LinearRegression\n",
    "from sklearn.metrics import r2_score\n",
    "import numpy as np\n",
    "import pickle\n",
    "import seaborn as sns"
   ]
  },
  {
   "cell_type": "code",
   "execution_count": 3,
   "id": "28978af0-c5ae-4020-ad91-7681b787bd7d",
   "metadata": {},
   "outputs": [],
   "source": [
    "# read the csv file\n",
    "df = pd.read_csv('taxi.csv')"
   ]
  },
  {
   "cell_type": "code",
   "execution_count": 4,
   "id": "5da1196d-6a66-4639-9c1b-97f4be89fb87",
   "metadata": {},
   "outputs": [
    {
     "data": {
      "text/html": [
       "<div>\n",
       "<style scoped>\n",
       "    .dataframe tbody tr th:only-of-type {\n",
       "        vertical-align: middle;\n",
       "    }\n",
       "\n",
       "    .dataframe tbody tr th {\n",
       "        vertical-align: top;\n",
       "    }\n",
       "\n",
       "    .dataframe thead th {\n",
       "        text-align: right;\n",
       "    }\n",
       "</style>\n",
       "<table border=\"1\" class=\"dataframe\">\n",
       "  <thead>\n",
       "    <tr style=\"text-align: right;\">\n",
       "      <th></th>\n",
       "      <th>Priceperweek</th>\n",
       "      <th>Population</th>\n",
       "      <th>Monthlyincome</th>\n",
       "      <th>Averageparkingpermonth</th>\n",
       "      <th>Numberofweeklyriders</th>\n",
       "    </tr>\n",
       "  </thead>\n",
       "  <tbody>\n",
       "    <tr>\n",
       "      <th>0</th>\n",
       "      <td>15</td>\n",
       "      <td>1800000</td>\n",
       "      <td>5800</td>\n",
       "      <td>50</td>\n",
       "      <td>192000</td>\n",
       "    </tr>\n",
       "    <tr>\n",
       "      <th>1</th>\n",
       "      <td>15</td>\n",
       "      <td>1790000</td>\n",
       "      <td>6200</td>\n",
       "      <td>50</td>\n",
       "      <td>190400</td>\n",
       "    </tr>\n",
       "    <tr>\n",
       "      <th>2</th>\n",
       "      <td>15</td>\n",
       "      <td>1780000</td>\n",
       "      <td>6400</td>\n",
       "      <td>60</td>\n",
       "      <td>191200</td>\n",
       "    </tr>\n",
       "    <tr>\n",
       "      <th>3</th>\n",
       "      <td>25</td>\n",
       "      <td>1778000</td>\n",
       "      <td>6500</td>\n",
       "      <td>60</td>\n",
       "      <td>177600</td>\n",
       "    </tr>\n",
       "    <tr>\n",
       "      <th>4</th>\n",
       "      <td>25</td>\n",
       "      <td>1750000</td>\n",
       "      <td>6550</td>\n",
       "      <td>60</td>\n",
       "      <td>176800</td>\n",
       "    </tr>\n",
       "  </tbody>\n",
       "</table>\n",
       "</div>"
      ],
      "text/plain": [
       "   Priceperweek  Population  Monthlyincome  Averageparkingpermonth  \\\n",
       "0            15     1800000           5800                      50   \n",
       "1            15     1790000           6200                      50   \n",
       "2            15     1780000           6400                      60   \n",
       "3            25     1778000           6500                      60   \n",
       "4            25     1750000           6550                      60   \n",
       "\n",
       "   Numberofweeklyriders  \n",
       "0                192000  \n",
       "1                190400  \n",
       "2                191200  \n",
       "3                177600  \n",
       "4                176800  "
      ]
     },
     "execution_count": 4,
     "metadata": {},
     "output_type": "execute_result"
    }
   ],
   "source": [
    "df.head()"
   ]
  },
  {
   "cell_type": "code",
   "execution_count": 8,
   "id": "220c4a0e-0941-4c75-b668-2708e90097b9",
   "metadata": {},
   "outputs": [],
   "source": [
    "x=df[['Priceperweek','Population','Monthlyincome','Averageparkingpermonth']]\n",
    "y=df['Numberofweeklyriders']"
   ]
  },
  {
   "cell_type": "code",
   "execution_count": 9,
   "id": "27dd39f3-b1d3-4fa0-bbc4-efac123769a5",
   "metadata": {},
   "outputs": [
    {
     "data": {
      "text/html": [
       "<div>\n",
       "<style scoped>\n",
       "    .dataframe tbody tr th:only-of-type {\n",
       "        vertical-align: middle;\n",
       "    }\n",
       "\n",
       "    .dataframe tbody tr th {\n",
       "        vertical-align: top;\n",
       "    }\n",
       "\n",
       "    .dataframe thead th {\n",
       "        text-align: right;\n",
       "    }\n",
       "</style>\n",
       "<table border=\"1\" class=\"dataframe\">\n",
       "  <thead>\n",
       "    <tr style=\"text-align: right;\">\n",
       "      <th></th>\n",
       "      <th>Priceperweek</th>\n",
       "      <th>Population</th>\n",
       "      <th>Monthlyincome</th>\n",
       "      <th>Averageparkingpermonth</th>\n",
       "    </tr>\n",
       "  </thead>\n",
       "  <tbody>\n",
       "    <tr>\n",
       "      <th>0</th>\n",
       "      <td>15</td>\n",
       "      <td>1800000</td>\n",
       "      <td>5800</td>\n",
       "      <td>50</td>\n",
       "    </tr>\n",
       "    <tr>\n",
       "      <th>1</th>\n",
       "      <td>15</td>\n",
       "      <td>1790000</td>\n",
       "      <td>6200</td>\n",
       "      <td>50</td>\n",
       "    </tr>\n",
       "    <tr>\n",
       "      <th>2</th>\n",
       "      <td>15</td>\n",
       "      <td>1780000</td>\n",
       "      <td>6400</td>\n",
       "      <td>60</td>\n",
       "    </tr>\n",
       "    <tr>\n",
       "      <th>3</th>\n",
       "      <td>25</td>\n",
       "      <td>1778000</td>\n",
       "      <td>6500</td>\n",
       "      <td>60</td>\n",
       "    </tr>\n",
       "    <tr>\n",
       "      <th>4</th>\n",
       "      <td>25</td>\n",
       "      <td>1750000</td>\n",
       "      <td>6550</td>\n",
       "      <td>60</td>\n",
       "    </tr>\n",
       "    <tr>\n",
       "      <th>5</th>\n",
       "      <td>25</td>\n",
       "      <td>1740000</td>\n",
       "      <td>6580</td>\n",
       "      <td>70</td>\n",
       "    </tr>\n",
       "    <tr>\n",
       "      <th>6</th>\n",
       "      <td>25</td>\n",
       "      <td>1725000</td>\n",
       "      <td>8200</td>\n",
       "      <td>75</td>\n",
       "    </tr>\n",
       "    <tr>\n",
       "      <th>7</th>\n",
       "      <td>30</td>\n",
       "      <td>1725000</td>\n",
       "      <td>8600</td>\n",
       "      <td>75</td>\n",
       "    </tr>\n",
       "    <tr>\n",
       "      <th>8</th>\n",
       "      <td>30</td>\n",
       "      <td>1720000</td>\n",
       "      <td>8800</td>\n",
       "      <td>75</td>\n",
       "    </tr>\n",
       "    <tr>\n",
       "      <th>9</th>\n",
       "      <td>30</td>\n",
       "      <td>1705000</td>\n",
       "      <td>9200</td>\n",
       "      <td>80</td>\n",
       "    </tr>\n",
       "    <tr>\n",
       "      <th>10</th>\n",
       "      <td>30</td>\n",
       "      <td>1710000</td>\n",
       "      <td>9630</td>\n",
       "      <td>80</td>\n",
       "    </tr>\n",
       "    <tr>\n",
       "      <th>11</th>\n",
       "      <td>40</td>\n",
       "      <td>1700000</td>\n",
       "      <td>10570</td>\n",
       "      <td>80</td>\n",
       "    </tr>\n",
       "    <tr>\n",
       "      <th>12</th>\n",
       "      <td>40</td>\n",
       "      <td>1695000</td>\n",
       "      <td>11330</td>\n",
       "      <td>85</td>\n",
       "    </tr>\n",
       "    <tr>\n",
       "      <th>13</th>\n",
       "      <td>40</td>\n",
       "      <td>1695000</td>\n",
       "      <td>11600</td>\n",
       "      <td>100</td>\n",
       "    </tr>\n",
       "    <tr>\n",
       "      <th>14</th>\n",
       "      <td>40</td>\n",
       "      <td>1690000</td>\n",
       "      <td>11800</td>\n",
       "      <td>105</td>\n",
       "    </tr>\n",
       "    <tr>\n",
       "      <th>15</th>\n",
       "      <td>40</td>\n",
       "      <td>1630000</td>\n",
       "      <td>11830</td>\n",
       "      <td>105</td>\n",
       "    </tr>\n",
       "    <tr>\n",
       "      <th>16</th>\n",
       "      <td>65</td>\n",
       "      <td>1640000</td>\n",
       "      <td>12650</td>\n",
       "      <td>105</td>\n",
       "    </tr>\n",
       "    <tr>\n",
       "      <th>17</th>\n",
       "      <td>102</td>\n",
       "      <td>1635000</td>\n",
       "      <td>13000</td>\n",
       "      <td>110</td>\n",
       "    </tr>\n",
       "    <tr>\n",
       "      <th>18</th>\n",
       "      <td>75</td>\n",
       "      <td>1630000</td>\n",
       "      <td>13224</td>\n",
       "      <td>125</td>\n",
       "    </tr>\n",
       "    <tr>\n",
       "      <th>19</th>\n",
       "      <td>75</td>\n",
       "      <td>1620000</td>\n",
       "      <td>13766</td>\n",
       "      <td>130</td>\n",
       "    </tr>\n",
       "    <tr>\n",
       "      <th>20</th>\n",
       "      <td>75</td>\n",
       "      <td>1615000</td>\n",
       "      <td>14010</td>\n",
       "      <td>150</td>\n",
       "    </tr>\n",
       "    <tr>\n",
       "      <th>21</th>\n",
       "      <td>80</td>\n",
       "      <td>1605000</td>\n",
       "      <td>14468</td>\n",
       "      <td>155</td>\n",
       "    </tr>\n",
       "    <tr>\n",
       "      <th>22</th>\n",
       "      <td>86</td>\n",
       "      <td>1590000</td>\n",
       "      <td>15000</td>\n",
       "      <td>165</td>\n",
       "    </tr>\n",
       "    <tr>\n",
       "      <th>23</th>\n",
       "      <td>98</td>\n",
       "      <td>1595000</td>\n",
       "      <td>15200</td>\n",
       "      <td>175</td>\n",
       "    </tr>\n",
       "    <tr>\n",
       "      <th>24</th>\n",
       "      <td>87</td>\n",
       "      <td>1590000</td>\n",
       "      <td>15600</td>\n",
       "      <td>175</td>\n",
       "    </tr>\n",
       "    <tr>\n",
       "      <th>25</th>\n",
       "      <td>77</td>\n",
       "      <td>1600000</td>\n",
       "      <td>16000</td>\n",
       "      <td>190</td>\n",
       "    </tr>\n",
       "    <tr>\n",
       "      <th>26</th>\n",
       "      <td>63</td>\n",
       "      <td>1610000</td>\n",
       "      <td>16200</td>\n",
       "      <td>200</td>\n",
       "    </tr>\n",
       "  </tbody>\n",
       "</table>\n",
       "</div>"
      ],
      "text/plain": [
       "    Priceperweek  Population  Monthlyincome  Averageparkingpermonth\n",
       "0             15     1800000           5800                      50\n",
       "1             15     1790000           6200                      50\n",
       "2             15     1780000           6400                      60\n",
       "3             25     1778000           6500                      60\n",
       "4             25     1750000           6550                      60\n",
       "5             25     1740000           6580                      70\n",
       "6             25     1725000           8200                      75\n",
       "7             30     1725000           8600                      75\n",
       "8             30     1720000           8800                      75\n",
       "9             30     1705000           9200                      80\n",
       "10            30     1710000           9630                      80\n",
       "11            40     1700000          10570                      80\n",
       "12            40     1695000          11330                      85\n",
       "13            40     1695000          11600                     100\n",
       "14            40     1690000          11800                     105\n",
       "15            40     1630000          11830                     105\n",
       "16            65     1640000          12650                     105\n",
       "17           102     1635000          13000                     110\n",
       "18            75     1630000          13224                     125\n",
       "19            75     1620000          13766                     130\n",
       "20            75     1615000          14010                     150\n",
       "21            80     1605000          14468                     155\n",
       "22            86     1590000          15000                     165\n",
       "23            98     1595000          15200                     175\n",
       "24            87     1590000          15600                     175\n",
       "25            77     1600000          16000                     190\n",
       "26            63     1610000          16200                     200"
      ]
     },
     "execution_count": 9,
     "metadata": {},
     "output_type": "execute_result"
    }
   ],
   "source": [
    "x\n"
   ]
  },
  {
   "cell_type": "code",
   "execution_count": 10,
   "id": "7a85a99e-a2a3-46f2-801d-c402e63f6529",
   "metadata": {},
   "outputs": [
    {
     "data": {
      "text/plain": [
       "0     192000\n",
       "1     190400\n",
       "2     191200\n",
       "3     177600\n",
       "4     176800\n",
       "5     178400\n",
       "6     180800\n",
       "7     175200\n",
       "8     174400\n",
       "9     173920\n",
       "10    172800\n",
       "11    163200\n",
       "12    161600\n",
       "13    161600\n",
       "14    160800\n",
       "15    159200\n",
       "16    148800\n",
       "17    115696\n",
       "18    147200\n",
       "19    150400\n",
       "20    152000\n",
       "21    136000\n",
       "22    126240\n",
       "23    123888\n",
       "24    126080\n",
       "25    151680\n",
       "26    152800\n",
       "Name: Numberofweeklyriders, dtype: int64"
      ]
     },
     "execution_count": 10,
     "metadata": {},
     "output_type": "execute_result"
    }
   ],
   "source": [
    "y"
   ]
  },
  {
   "cell_type": "code",
   "execution_count": 11,
   "id": "605e964b-ecb8-49ec-8ea8-a5851daf9e0e",
   "metadata": {},
   "outputs": [],
   "source": [
    "x_train,x_test,y_train,y_test = train_test_split(x,y,test_size=0.2, random_state=0)"
   ]
  },
  {
   "cell_type": "code",
   "execution_count": 12,
   "id": "90b7b45d-d3ce-4003-967e-2140a1ab9424",
   "metadata": {},
   "outputs": [
    {
     "data": {
      "text/plain": [
       "LinearRegression()"
      ]
     },
     "execution_count": 12,
     "metadata": {},
     "output_type": "execute_result"
    }
   ],
   "source": [
    "lr_model = LinearRegression()\n",
    "lr_model.fit(x_train,y_train)"
   ]
  },
  {
   "cell_type": "code",
   "execution_count": 13,
   "id": "a7e0da1a-a3a2-4ea1-8dda-190935ba5401",
   "metadata": {},
   "outputs": [],
   "source": [
    "score = lr_model.score(x_train,y_train)"
   ]
  },
  {
   "cell_type": "code",
   "execution_count": 14,
   "id": "2aa737b5-7c00-4bfb-937f-d9de19ea2a4f",
   "metadata": {},
   "outputs": [
    {
     "data": {
      "text/plain": [
       "0.9347981707182889"
      ]
     },
     "execution_count": 14,
     "metadata": {},
     "output_type": "execute_result"
    }
   ],
   "source": [
    "score"
   ]
  },
  {
   "cell_type": "code",
   "execution_count": 30,
   "id": "eb9e0ed2-678f-4b83-bb42-e1452ca0f91f",
   "metadata": {},
   "outputs": [
    {
     "name": "stdout",
     "output_type": "stream",
     "text": [
      "Accuracy with train data : 93\n"
     ]
    }
   ],
   "source": [
    "print(f\"Accuracy with train data : {round(score*100)}\")"
   ]
  },
  {
   "cell_type": "code",
   "execution_count": 32,
   "id": "1b086c52-ffe2-44b1-a0f6-2ba9455b44ae",
   "metadata": {},
   "outputs": [
    {
     "name": "stdout",
     "output_type": "stream",
     "text": [
      "Accuracy with test data : 94\n"
     ]
    }
   ],
   "source": [
    "y_pred =lr_model.predict(x_test)\n",
    "# Find out accuracy with test data \n",
    "r2score = r2_score(y_test,y_pred)\n",
    "print(f\"Accuracy with test data : {round(r2score*100)}\")\n"
   ]
  },
  {
   "cell_type": "code",
   "execution_count": 23,
   "id": "8d2b20a0-74c0-4203-a774-a79ada6a3d82",
   "metadata": {},
   "outputs": [
    {
     "data": {
      "text/plain": [
       "<seaborn.axisgrid.PairGrid at 0x23f5c8b7df0>"
      ]
     },
     "execution_count": 23,
     "metadata": {},
     "output_type": "execute_result"
    },
    {
     "data": {
      "image/png": "[encoded data removed]",
      "text/plain": [
       "<Figure size 900x900 with 30 Axes>"
      ]
     },
     "metadata": {
      "needs_background": "light"
     },
     "output_type": "display_data"
    }
   ],
   "source": [
    "sns.pairplot(df)"
   ]
  },
  {
   "cell_type": "code",
   "execution_count": 33,
   "id": "bbbecc89-6357-4fb0-8002-b50e677b5445",
   "metadata": {},
   "outputs": [],
   "source": [
    "# Pickle model\n",
    "pd.to_pickle(lr_model,'lr_model.pickle')"
   ]
  },
  {
   "cell_type": "code",
   "execution_count": null,
   "id": "1ce04110-4b48-4117-b44e-f86424322384",
   "metadata": {},
   "outputs": [],
   "source": []
  }
 ],
 "metadata": {
  "kernelspec": {
   "display_name": "Python 3 (ipykernel)",
   "language": "python",
   "name": "python3"
  },
  "language_info": {
   "codemirror_mode": {
    "name": "ipython",
    "version": 3
   },
   "file_extension": ".py",
   "mimetype": "text/x-python",
   "name": "python",
   "nbconvert_exporter": "python",
   "pygments_lexer": "ipython3",
   "version": "3.9.6"
  }
 },
 "nbformat": 4,
 "nbformat_minor": 5
}
